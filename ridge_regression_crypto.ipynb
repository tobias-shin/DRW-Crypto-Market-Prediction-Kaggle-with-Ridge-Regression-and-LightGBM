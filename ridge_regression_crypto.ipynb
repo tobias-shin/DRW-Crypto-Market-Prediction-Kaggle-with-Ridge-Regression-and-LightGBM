{
 "cells": [
  {
   "cell_type": "code",
   "execution_count": 3,
   "id": "72f68ff2-ac15-41a2-9b35-afe4f00d9994",
   "metadata": {},
   "outputs": [],
   "source": [
    "import numpy as np\n",
    "import matplotlib.pyplot as plt\n",
    "from sklearn.feature_selection import VarianceThreshold\n",
    "from sklearn.linear_model import Ridge\n",
    "from sklearn.linear_model import LinearRegression\n",
    "from sklearn.linear_model import Lasso\n",
    "from sklearn.metrics import mean_squared_error"
   ]
  },
  {
   "cell_type": "code",
   "execution_count": 6,
   "id": "acfdb08a-9266-44d2-b28c-d6ebfc5f302f",
   "metadata": {},
   "outputs": [],
   "source": [
    "def add_bias(X):\n",
    "    return np.hstack([np.ones((X.shape[0],1)),X])\n",
    "\n",
    "def linear_regression_fit(X,y):\n",
    "    X_bias = add_bias(X)\n",
    "    beta = np.linalg.inv(X_bias.T @ X_bias) @ X_bias.T @ y\n",
    "    return beta\n",
    "\n",
    "def linear_regression_predict(X,beta):\n",
    "    X_bias = add_bias(X)\n",
    "    return X_bias @ beta"
   ]
  },
  {
   "cell_type": "code",
   "execution_count": 7,
   "id": "b460f5ff-a98c-4a24-8946-1ce3b775c6c5",
   "metadata": {},
   "outputs": [
    {
     "name": "stdout",
     "output_type": "stream",
     "text": [
      "Coefficients [-3.10862447e-15  2.00000000e+00]\n",
      "Predictions [2. 4. 6. 8.]\n"
     ]
    }
   ],
   "source": [
    "X = np.array([[1], [2], [3], [4]])\n",
    "y = np.array([2, 4, 6, 8])\n",
    "\n",
    "beta = linear_regression_fit(X, y)\n",
    "y_pred = linear_regression_predict(X, beta)\n",
    "\n",
    "print(\"Coefficients\", beta)\n",
    "print(\"Predictions\", y_pred)"
   ]
  },
  {
   "cell_type": "code",
   "execution_count": 15,
   "id": "d2c56306-d2d4-4789-96cb-c9e73077a355",
   "metadata": {},
   "outputs": [
    {
     "name": "stdout",
     "output_type": "stream",
     "text": [
      "Coefficients [2.]\n",
      "y-Intercept 0.0\n",
      "Predictions [2. 4. 6. 8.]\n"
     ]
    }
   ],
   "source": [
    "model = LinearRegression()\n",
    "model.fit(X,y)\n",
    "y_pred = model.predict(X)\n",
    "\n",
    "print(\"Coefficients\", model.coef_)\n",
    "print(\"y-Intercept\", model.intercept_)\n",
    "print(\"Predictions\", y_pred)"
   ]
  },
  {
   "cell_type": "code",
   "execution_count": 6,
   "id": "d746f377-1c58-4283-b46d-15347e48b8be",
   "metadata": {},
   "outputs": [],
   "source": [
    "def linear_regression_gd(X,y, lr=0.01, n_iters = 1000):\n",
    "    X = np.array(X)\n",
    "    y = np.array(y)\n",
    "    X_bias = add_bias(X)\n",
    "    n_samples, n_features = X_bias.shape\n",
    "\n",
    "    beta = np.zeros(n_features)\n",
    "\n",
    "    for _ in range(n_iters):\n",
    "        y_pred = X_bias @ beta\n",
    "        gradient = -(2/n_samples) * X_bias.T @ (y - y_pred)\n",
    "        beta -= lr*gradient\n",
    "    return beta"
   ]
  },
  {
   "cell_type": "code",
   "execution_count": 7,
   "id": "0b8ec5b2-ea24-489b-a87f-790f21be63f6",
   "metadata": {},
   "outputs": [
    {
     "name": "stdout",
     "output_type": "stream",
     "text": [
      "Coefficients [0.03040452 1.98965876]\n",
      "Predictions [2.02006328 4.00972203 5.99938079 7.98903954]\n"
     ]
    }
   ],
   "source": [
    "X = np.array([[1], [2], [3], [4]])\n",
    "y = np.array([2, 4, 6, 8])\n",
    "\n",
    "beta = linear_regression_gd(X, y)\n",
    "y_pred = linear_regression_predict(X, beta)\n",
    "\n",
    "print(\"Coefficients\", beta)\n",
    "print(\"Predictions\", y_pred)"
   ]
  },
  {
   "cell_type": "code",
   "execution_count": 8,
   "id": "077a78ee-b570-44dd-b51c-f3af07c78f8c",
   "metadata": {},
   "outputs": [],
   "source": [
    "import pandas as pd\n",
    "from sklearn.metrics import mean_squared_error, r2_score\n",
    "\n",
    "df = pd.read_parquet(\"/Users/tobiasshin/Downloads/drw-crypto-market-prediction/train.parquet\")"
   ]
  },
  {
   "cell_type": "code",
   "execution_count": 9,
   "id": "db71ebbb-d2ba-407c-8c12-0b304e9399f2",
   "metadata": {},
   "outputs": [
    {
     "name": "stdout",
     "output_type": "stream",
     "text": [
      "                     bid_qty  ask_qty  buy_qty  sell_qty   volume        X1  \\\n",
      "timestamp                                                                     \n",
      "2023-03-01 00:00:00   15.283    8.425  176.405    44.984  221.389  0.121263   \n",
      "2023-03-01 00:01:00   38.590    2.336  525.846   321.950  847.796  0.302841   \n",
      "2023-03-01 00:02:00    0.442   60.250  159.227   136.369  295.596  0.167462   \n",
      "2023-03-01 00:03:00    4.865   21.016  335.742   124.963  460.705  0.072944   \n",
      "2023-03-01 00:04:00   27.158    3.451   98.411    44.407  142.818  0.173820   \n",
      "\n",
      "                           X2        X3        X4        X5  ...      X882  \\\n",
      "timestamp                                                    ...             \n",
      "2023-03-01 00:00:00 -0.417690  0.005399  0.125948  0.058359  ...  1.925423   \n",
      "2023-03-01 00:01:00 -0.049576  0.356667  0.481087  0.237954  ...  1.928569   \n",
      "2023-03-01 00:02:00 -0.291212  0.083138  0.206881  0.101727  ...  1.928047   \n",
      "2023-03-01 00:03:00 -0.436590 -0.102483  0.017551  0.007149  ...  1.928621   \n",
      "2023-03-01 00:04:00 -0.213489  0.096067  0.215709  0.107133  ...  1.927084   \n",
      "\n",
      "                         X883      X884      X885      X886      X887  \\\n",
      "timestamp                                                               \n",
      "2023-03-01 00:00:00  1.847943  0.005676  0.190791  0.369691  0.377630   \n",
      "2023-03-01 00:01:00  1.849468  0.005227  0.184660  0.363642  0.374515   \n",
      "2023-03-01 00:02:00  1.849282  0.004796  0.178719  0.357689  0.371424   \n",
      "2023-03-01 00:03:00  1.849608  0.004398  0.172967  0.351832  0.368358   \n",
      "2023-03-01 00:04:00  1.848950  0.004008  0.167391  0.346066  0.365314   \n",
      "\n",
      "                         X888      X889      X890     label  \n",
      "timestamp                                                    \n",
      "2023-03-01 00:00:00  0.210153  0.159183  0.530636  0.562539  \n",
      "2023-03-01 00:01:00  0.209573  0.158963  0.530269  0.533686  \n",
      "2023-03-01 00:02:00  0.208993  0.158744  0.529901  0.546505  \n",
      "2023-03-01 00:03:00  0.208416  0.158524  0.529534  0.357703  \n",
      "2023-03-01 00:04:00  0.207839  0.158304  0.529167  0.362452  \n",
      "\n",
      "[5 rows x 896 columns]\n",
      "(525887, 896)\n"
     ]
    }
   ],
   "source": [
    "print(df.head())\n",
    "print(df.shape)\n"
   ]
  },
  {
   "cell_type": "code",
   "execution_count": 10,
   "id": "2cc3d090-21cd-422f-8618-ac4e20c04ca8",
   "metadata": {},
   "outputs": [
    {
     "name": "stdout",
     "output_type": "stream",
     "text": [
      "Index(['bid_qty', 'ask_qty', 'buy_qty', 'sell_qty', 'volume', 'X1', 'X2', 'X3',\n",
      "       'X4', 'X5',\n",
      "       ...\n",
      "       'X882', 'X883', 'X884', 'X885', 'X886', 'X887', 'X888', 'X889', 'X890',\n",
      "       'label'],\n",
      "      dtype='object', length=896)\n"
     ]
    }
   ],
   "source": [
    "print(df.columns)"
   ]
  },
  {
   "cell_type": "code",
   "execution_count": 32,
   "id": "e7de9597-0999-4039-b55c-a6af437cb8f4",
   "metadata": {},
   "outputs": [
    {
     "name": "stdout",
     "output_type": "stream",
     "text": [
      "Series([], dtype: float64)\n"
     ]
    }
   ],
   "source": [
    "missing = df.isnull().mean().sort_values(ascending=False)\n",
    "print(missing[missing > 0])"
   ]
  },
  {
   "cell_type": "code",
   "execution_count": 11,
   "id": "2d283336-bd1e-48d9-bc25-7251ea631947",
   "metadata": {},
   "outputs": [],
   "source": [
    "from sklearn.preprocessing import StandardScaler\n",
    "\n",
    "def linear_regression_sgd(X, y, lr=0.01, n_epochs=10):\n",
    "    X = np.array(X)\n",
    "    y = np.array(y)\n",
    "    X_bias = add_bias(X)\n",
    "    n_samples, n_features = X_bias.shape\n",
    "\n",
    "    beta = np.zeros(n_features)\n",
    "\n",
    "    for epoch in range(n_epochs):\n",
    "        #shuffle data at each epoch\n",
    "        indices = np.random.permutation(n_samples)\n",
    "        X_bias_shuffled = X_bias[indices]\n",
    "        y_shuffled = y[indices]\n",
    "        \n",
    "        for i in range(n_samples):\n",
    "            xi = X_bias_shuffled[i].reshape(1,-1) #shape (1,n_features)\n",
    "            yi = y_shuffled[i]\n",
    "            \n",
    "            y_pred_i = xi @ beta\n",
    "            gradient = -2 * xi.T @ (yi - y_pred_i) #shape (n_features,1)\n",
    "            beta = beta - lr*gradient.flatten()\n",
    "    \n",
    "    return beta\n",
    "    "
   ]
  },
  {
   "cell_type": "code",
   "execution_count": 27,
   "id": "02cd6090-ca59-4f44-acf9-61f05eece334",
   "metadata": {},
   "outputs": [
    {
     "name": "stdout",
     "output_type": "stream",
     "text": [
      "Index(['X697', 'X698', 'X699', 'X700', 'X701', 'X702', 'X703', 'X704', 'X705',\n",
      "       'X706', 'X707', 'X708', 'X709', 'X710', 'X711', 'X712', 'X713', 'X714',\n",
      "       'X715', 'X716', 'X717', 'X864', 'X867', 'X869', 'X870', 'X871', 'X872'],\n",
      "      dtype='object')\n"
     ]
    }
   ],
   "source": [
    "# features that are all constant (variance 0)\n",
    "zero_var = df.loc[:, df.nunique() == 1]\n",
    "df = df.drop(columns=zero_var)\n",
    "print(zero_var.columns)"
   ]
  },
  {
   "cell_type": "code",
   "execution_count": 36,
   "id": "6356d317-cf48-4706-89b4-585beeb78436",
   "metadata": {},
   "outputs": [
    {
     "name": "stdout",
     "output_type": "stream",
     "text": [
      "X21     0.069401\n",
      "X20     0.067667\n",
      "X28     0.064092\n",
      "X863    0.064057\n",
      "X29     0.062339\n",
      "X19     0.062293\n",
      "X27     0.062251\n",
      "X22     0.057676\n",
      "X858    0.057320\n",
      "X219    0.056713\n",
      "Name: label, dtype: float64\n"
     ]
    }
   ],
   "source": [
    "correlations = df.corr(numeric_only=True)[\"label\"].drop(\"label\")\n",
    "top_corr = correlations.abs().sort_values(ascending=False)\n",
    "print(top_corr.head(10))  # top 10 features strongest correlated with label"
   ]
  },
  {
   "cell_type": "code",
   "execution_count": 37,
   "id": "6d418581-e91a-407d-a080-67ad2c1af597",
   "metadata": {},
   "outputs": [
    {
     "name": "stdout",
     "output_type": "stream",
     "text": [
      "(525887, 869)\n"
     ]
    }
   ],
   "source": [
    "from sklearn.feature_selection import VarianceThreshold\n",
    "\n",
    "# drop features with low variance \n",
    "selector = VarianceThreshold(threshold=1e-5)\n",
    "selector.fit(df)\n",
    "\n",
    "df = df.loc[:, selector.get_support()]\n",
    "print(df.shape)"
   ]
  },
  {
   "cell_type": "code",
   "execution_count": 28,
   "id": "6563b537-aabb-4b1b-98c5-335a1fa0dd23",
   "metadata": {},
   "outputs": [
    {
     "data": {
      "image/png": "[encoded data removed]",
      "text/plain": [
       "<Figure size 640x480 with 1 Axes>"
      ]
     },
     "metadata": {},
     "output_type": "display_data"
    }
   ],
   "source": [
    "df[\"label\"].hist(bins=200, range=(-3, 3))\n",
    "plt.title(\"Target Distribution\")\n",
    "plt.show()"
   ]
  },
  {
   "cell_type": "code",
   "execution_count": 29,
   "id": "2022b5e1-79c5-463d-8e96-8166dc2ddefe",
   "metadata": {},
   "outputs": [
    {
     "data": {
      "text/plain": [
       "count    525887.000000\n",
       "mean          0.036126\n",
       "std           1.009914\n",
       "min         -24.416615\n",
       "25%          -0.381585\n",
       "50%           0.016262\n",
       "75%           0.434135\n",
       "max          20.740270\n",
       "Name: label, dtype: float64"
      ]
     },
     "execution_count": 29,
     "metadata": {},
     "output_type": "execute_result"
    }
   ],
   "source": [
    "df[\"label\"].describe()"
   ]
  },
  {
   "cell_type": "code",
   "execution_count": 30,
   "id": "8706fd9f-a0f4-485f-9158-b742eadf1957",
   "metadata": {},
   "outputs": [],
   "source": [
    "# drop the label from the design matrix and re-assign it\n",
    "X = df.drop(columns=[\"label\"]).values\n",
    "y = df[\"label\"].values     "
   ]
  },
  {
   "cell_type": "code",
   "execution_count": 39,
   "id": "bdbd8622-8985-46c6-92fb-ea40eb9a5105",
   "metadata": {},
   "outputs": [],
   "source": [
    "df = df.sort_values(\"timestamp\")\n",
    "\n",
    "#Let's train on a small subset of the data first to find which features are most prominent\n",
    "subset = df.iloc[:50_000] #10% of 500,000 timestamps (rows)\n",
    "train = subset.iloc[:40_000]\n",
    "val = subset.iloc[40_000:]"
   ]
  },
  {
   "cell_type": "code",
   "execution_count": 40,
   "id": "42e61523-f0b0-4bd8-8279-4d067e5cf4f0",
   "metadata": {},
   "outputs": [
    {
     "name": "stdout",
     "output_type": "stream",
     "text": [
      "X866: MSE = 0.5890\n",
      "X858: MSE = 0.5944\n",
      "X184: MSE = 0.5981\n",
      "X22: MSE = 0.5984\n",
      "X190: MSE = 0.5984\n",
      "X32: MSE = 0.5985\n",
      "X344: MSE = 0.5988\n",
      "X187: MSE = 0.5989\n",
      "X24: MSE = 0.5992\n",
      "X853: MSE = 0.5992\n"
     ]
    }
   ],
   "source": [
    "X_train, y_train = train.drop(columns=[\"label\"]), train[\"label\"]\n",
    "X_val, y_val = val.drop(columns=[\"label\"]), val[\"label\"]\n",
    "\n",
    "#small example where we train and validate the first 10% of our training data\n",
    "feature_scores = {}\n",
    "\n",
    "for feature in X_train.columns:\n",
    "    model = Ridge()\n",
    "    model.fit(X_train[[feature]], y_train)\n",
    "    preds = model.predict(X_val[[feature]])\n",
    "    mse = mean_squared_error(y_val,preds)\n",
    "    feature_scores[feature] = mse\n",
    "\n",
    "#sort by lowest MSE\n",
    "top_features = sorted(feature_scores.items(), key=lambda x: x[1])\n",
    "for feat, score in top_features[:10]:\n",
    "    print(f\"{feat}: MSE = {score:.4f}\")"
   ]
  },
  {
   "cell_type": "code",
   "execution_count": 41,
   "id": "e03c5326-c83b-4662-a0cd-c06675830fc9",
   "metadata": {},
   "outputs": [
    {
     "name": "stdout",
     "output_type": "stream",
     "text": [
      "X279: Avg MSE = 1.1143\n",
      "X278: Avg MSE = 1.1177\n",
      "X277: Avg MSE = 1.1245\n",
      "X272: Avg MSE = 1.1273\n",
      "X572: Avg MSE = 1.1280\n",
      "X296: Avg MSE = 1.1281\n",
      "X294: Avg MSE = 1.1286\n",
      "X292: Avg MSE = 1.1293\n",
      "X565: Avg MSE = 1.1298\n",
      "X298: Avg MSE = 1.1304\n"
     ]
    }
   ],
   "source": [
    "#Now we do a sliding window where we do ridge regression for each 10% block (80/20 in each block)\n",
    "# and then average the MSEs across blocks\n",
    "# this is with ridge regression\n",
    "\n",
    "block_size = 50_000\n",
    "train_frac = 0.8\n",
    "feature_scores = {}\n",
    "\n",
    "for block_start in range(0, len(df), block_size):\n",
    "    block_end = block_start + block_size\n",
    "    block = df.iloc[block_start:block_end]\n",
    "\n",
    "    if len(block) < block_size:\n",
    "        break #skip last partial block\n",
    "\n",
    "    train_size = int(train_frac*block_size)\n",
    "    train = block.iloc[:train_size]\n",
    "    val = block.iloc[train_size:]\n",
    "\n",
    "    X_train = train.drop(columns=[\"label\"])\n",
    "    y_train = train[\"label\"]\n",
    "    X_val = val.drop(columns=[\"label\"])\n",
    "    y_val = val[\"label\"]\n",
    "\n",
    "    for feature in X_train.columns:\n",
    "        model = Ridge()\n",
    "        model.fit(X_train[[feature]], y_train)\n",
    "        preds = model.predict(X_val[[feature]])\n",
    "        mse = mean_squared_error(y_val,preds)\n",
    "\n",
    "        if feature not in feature_scores:\n",
    "            feature_scores[feature] = []\n",
    "        feature_scores[feature].append(mse)\n",
    "\n",
    "average_scores = { feat: np.mean(mse_list) for feat, mse_list in feature_scores.items() } \n",
    "\n",
    "top_features = sorted(average_scores.items(), key=lambda x:x[1])\n",
    "for feat, score in top_features[:10]:\n",
    "    print(f\"{feat}: Avg MSE = {score:.4f}\")\n",
    "    "
   ]
  },
  {
   "cell_type": "code",
   "execution_count": 51,
   "id": "084f93a6-3e75-4c7e-9ccd-eaaa7a8db737",
   "metadata": {},
   "outputs": [
    {
     "name": "stdout",
     "output_type": "stream",
     "text": [
      "X528: Avg MSE = 1.1385\n",
      "X760: Avg MSE = 1.1390\n",
      "X306: Avg MSE = 1.1393\n",
      "X27: Avg MSE = 1.1412\n",
      "X246: Avg MSE = 1.1415\n",
      "X779: Avg MSE = 1.1421\n",
      "X365: Avg MSE = 1.1425\n",
      "X65: Avg MSE = 1.1426\n",
      "X613: Avg MSE = 1.1433\n",
      "X209: Avg MSE = 1.1437\n"
     ]
    }
   ],
   "source": [
    "from sklearn.preprocessing import StandardScaler\n",
    "scaler = StandardScaler()\n",
    "\n",
    "\n",
    "block_size = 50_000\n",
    "train_frac = 0.8\n",
    "feature_scores = {}\n",
    "\n",
    "for block_start in range(0, len(df), block_size):\n",
    "    block_end = block_start + block_size\n",
    "    block = df.iloc[block_start:block_end]\n",
    "\n",
    "    if len(block) < block_size:\n",
    "        break #skip last partial block\n",
    "\n",
    "    train_size = int(train_frac*block_size)\n",
    "    train = block.iloc[:train_size]\n",
    "    val = block.iloc[train_size:]\n",
    "\n",
    "    X_train = train.drop(columns=[\"label\"])\n",
    "    y_train = train[\"label\"]\n",
    "    X_val = val.drop(columns=[\"label\"])\n",
    "    y_val = val[\"label\"]\n",
    "\n",
    "    Xf_train = X_train[[feature]].values\n",
    "    Xf_val = X_val[[feature]].values\n",
    "\n",
    "    \n",
    "\n",
    "    for feature in X_train.columns:\n",
    "\n",
    "        beta = linear_regression_sgd(Xf_train, y_train.values, lr=0.001, n_epochs=5)\n",
    "        preds = linear_regression_predict(Xf_val, beta)\n",
    "        mse = mean_squared_error(y_val.values,preds)\n",
    "\n",
    "        if feature not in feature_scores:\n",
    "            feature_scores[feature] = []\n",
    "        feature_scores[feature].append(mse)\n",
    "\n",
    "average_scores = { feat: np.mean(mse_list) for feat, mse_list in feature_scores.items() } \n",
    "\n",
    "top_features = sorted(average_scores.items(), key=lambda x:x[1])\n",
    "for feat, score in top_features[:10]:\n",
    "    print(f\"{feat}: Avg MSE = {score:.4f}\")"
   ]
  },
  {
   "cell_type": "code",
   "execution_count": null,
   "id": "2069127c-359c-43d6-804f-34425a33ff8b",
   "metadata": {},
   "outputs": [],
   "source": [
    "from sklearn.linear_model import Ridge\n",
    "from sklearn.metrics import mean_squared_error\n",
    "import numpy as np\n",
    "\n",
    "block_size = 50_000\n",
    "train_frac = 0.8\n",
    "feature_scores = {}\n",
    "\n",
    "for block_start in range(0, len(df), block_size):\n",
    "    block_end = block_start + block_size\n",
    "    block = df.iloc[block_start:block_end]\n",
    "\n",
    "    if len(block) < block_size:\n",
    "        break\n",
    "\n",
    "    train_size = int(train_frac * block_size)\n",
    "    train = block.iloc[:train_size]\n",
    "    val = block.iloc[train_size:]\n",
    "\n",
    "    X_train = train.drop(columns=[\"label\"])\n",
    "    y_train = train[\"label\"]\n",
    "    X_val = val.drop(columns=[\"label\"])\n",
    "    y_val = val[\"label\"]\n",
    "\n",
    "    for feature in X_train.columns:\n",
    "        Xf_train = X_train[[feature]].values\n",
    "        Xf_val = X_val[[feature]].values\n",
    "\n",
    "        model = Ridge(alpha=1.0)\n",
    "        model.fit(Xf_train, y_train)\n",
    "        preds = model.predict(Xf_val)\n",
    "        mse = mean_squared_error(y_val, preds)\n",
    "\n",
    "        if feature not in feature_scores:\n",
    "            feature_scores[feature] = []\n",
    "        feature_scores[feature].append(mse)"
   ]
  },
  {
   "cell_type": "code",
   "execution_count": null,
   "id": "a1a91a84-adcc-4577-9fde-b664da920e4f",
   "metadata": {},
   "outputs": [],
   "source": [
    "import pickle\n",
    "\n",
    "# Save\n",
    "with open(\"feature_scores.pkl\", \"wb\") as f:\n",
    "    pickle.dump(feature_scores, f)\n",
    "\n",
    "# Later: Load it back\n",
    "with open(\"feature_scores.pkl\", \"rb\") as f:\n",
    "    feature_scores = pickle.load(f)"
   ]
  },
  {
   "cell_type": "code",
   "execution_count": null,
   "id": "0c0e614b-b56c-4ad2-b583-4d43e4df961c",
   "metadata": {},
   "outputs": [],
   "source": [
    "#Rerun this cell to load obtained data\n",
    "\n",
    "average_scores = { feat: np.mean(mse_list) for feat, mse_list in feature_scores.items() } \n",
    "top_features = sorted(average_scores.items(), key=lambda x: x[1])\n",
    "for feat, score in top_features[:20]:\n",
    "    print(f\"{feat}: Avg MSE = {score:.4f}\")"
   ]
  },
  {
   "cell_type": "code",
   "execution_count": 16,
   "id": "3eeb1f58-dac8-4962-818d-d67b669e10e4",
   "metadata": {},
   "outputs": [
    {
     "ename": "NameError",
     "evalue": "name 'average_scores' is not defined",
     "output_type": "error",
     "traceback": [
      "\u001b[0;31m---------------------------------------------------------------------------\u001b[0m",
      "\u001b[0;31mNameError\u001b[0m                                 Traceback (most recent call last)",
      "Cell \u001b[0;32mIn[16], line 2\u001b[0m\n\u001b[1;32m      1\u001b[0m \u001b[38;5;66;03m# 1. Get top MSE features from your feature_scores dictionary\u001b[39;00m\n\u001b[0;32m----> 2\u001b[0m top_mse_features \u001b[38;5;241m=\u001b[39m \u001b[38;5;28msorted\u001b[39m(average_scores\u001b[38;5;241m.\u001b[39mitems(), key\u001b[38;5;241m=\u001b[39m\u001b[38;5;28;01mlambda\u001b[39;00m x: x[\u001b[38;5;241m1\u001b[39m])[:\u001b[38;5;241m20\u001b[39m]\n\u001b[1;32m      3\u001b[0m top_mse_feature_names \u001b[38;5;241m=\u001b[39m [feat \u001b[38;5;28;01mfor\u001b[39;00m feat, _ \u001b[38;5;129;01min\u001b[39;00m top_mse_features]\n\u001b[1;32m      5\u001b[0m \u001b[38;5;66;03m# 2. Get top correlation features\u001b[39;00m\n",
      "\u001b[0;31mNameError\u001b[0m: name 'average_scores' is not defined"
     ]
    }
   ],
   "source": [
    "# 1. Get top MSE features from your feature_scores dictionary\n",
    "top_mse_features = sorted(average_scores.items(), key=lambda x: x[1])[:20]\n",
    "top_mse_feature_names = [feat for feat, _ in top_mse_features]\n",
    "\n",
    "# 2. Get top correlation features\n",
    "correlations = df.corr(numeric_only=True)[\"label\"].drop(\"label\")\n",
    "top_corr_features = correlations.abs().sort_values(ascending=False).head(20).index.tolist()\n",
    "\n",
    "# 3. Compare\n",
    "print(\"Overlap between top-MSE and top-correlation features:\")\n",
    "print(set(top_mse_feature_names) & set(top_corr_features))"
   ]
  }
 ],
 "metadata": {
  "kernelspec": {
   "display_name": "Python [conda env:base] *",
   "language": "python",
   "name": "conda-base-py"
  },
  "language_info": {
   "codemirror_mode": {
    "name": "ipython",
    "version": 3
   },
   "file_extension": ".py",
   "mimetype": "text/x-python",
   "name": "python",
   "nbconvert_exporter": "python",
   "pygments_lexer": "ipython3",
   "version": "3.12.7"
  }
 },
 "nbformat": 4,
 "nbformat_minor": 5
}
